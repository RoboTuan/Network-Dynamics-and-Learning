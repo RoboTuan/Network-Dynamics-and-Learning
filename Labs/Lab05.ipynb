{
  "nbformat": 4,
  "nbformat_minor": 0,
  "metadata": {
    "kernelspec": {
      "display_name": "Python 3",
      "language": "python",
      "name": "python3"
    },
    "language_info": {
      "codemirror_mode": {
        "name": "ipython",
        "version": 3
      },
      "file_extension": ".py",
      "mimetype": "text/x-python",
      "name": "python",
      "nbconvert_exporter": "python",
      "pygments_lexer": "ipython3",
      "version": "3.8.3"
    },
    "colab": {
      "name": "Lab05.ipynb",
      "provenance": [],
      "collapsed_sections": [],
      "toc_visible": true
    }
  },
  "cells": [
    {
      "cell_type": "markdown",
      "metadata": {
        "id": "oSz2iK6TGxcy"
      },
      "source": [
        "# Game theory\n",
        "\n",
        "### Theory Recap\n",
        "\n",
        "A **game** in strategic form is a triplet $\\left(\\mathcal V, \\mathcal A, \\{u_i\\}_{i \\in \\mathcal V}\\right)$ where:\n",
        "- $\\mathcal V$ is the finite set of **players**\n",
        "- $\\mathcal A$ is the set of **actions** available to each player. Actions $x_i \\in \\mathcal A$ chosen  by each player are collected in a vector $x = (x_1,x_2, \\ldots, x_n)$ called **configuration** of the game. We denote the set of all configuration by $\\mathcal X = \\mathcal A^{\\mathcal V}$.\n",
        "- for each player $i \\in \\mathcal V$, the utility function $u_i: \\mathcal X \\rightarrow \\mathbb{R}$ describes the **payoff** the player gets in each configuration: the utility of a player depends on its own action but also on the actions of other players.\t\n",
        "\n",
        "To each player $i \\in \\mathcal V$ we associate a **best response** function, which gives, for each configuration of the other players, the best action for $i$ (i.e., the actions that maximize its utility)\n",
        "$$\n",
        "\\mathcal B_i(x_{-i})= \\arg\\max_{x_i \\in \\mathcal A} u_i(x_i,x_{-i})\n",
        "$$\n",
        "\n",
        "A **Nash equilibrium** is a configuration $x^* \\in \\mathcal X$ such that\n",
        "$$\n",
        "x_i^* \\in \\mathcal B_i (x^*_{-i}), \\quad i \\in \\mathcal V\n",
        "$$\n",
        "\n",
        "A game is **potential** if there exists a potential function $\\Phi: \\mathcal X \\rightarrow \\mathbb{R}$ which describes the way the utility function of each player changes when that player unilaterally varies its action. That is, $\\forall i \\in \\mathcal V$, $\\forall x,y \\in \\mathcal X$\n",
        "$$\n",
        "x_{-i}=y_{-i} \\implies u_i(y)-u_i(x) = \\Phi(y)-\\Phi(x)\n",
        "$$"
      ]
    },
    {
      "cell_type": "markdown",
      "metadata": {
        "id": "eCwRLonTGxc1"
      },
      "source": [
        "# Discrete time best response dynamics\n",
        "In this section we present and analyze a first game-theoretic learning process, the discrete time best response dynamics.\n",
        "\n",
        "Consider a game $\\left(\\mathcal V, \\mathcal A, \\{u_i\\}_{i \\in \\mathcal V}\\right)$. \n",
        "\n",
        "The **discrete-time asynchronous best response dynamics** is a Markov chain $X(t)$ with state space $\\mathcal X= \\mathcal A^{\\mathcal V}$ coinciding with the configuration space of the game.\n",
        "At time instant $t$, when the chain is in $X(t)$, one player $i$ is selected uniformly at random in $\\mathcal V$ and she changes her action to a best response chosen uniformly at random in the set $B_i(X(t)_{-i})$.\n",
        "\n",
        "In other words, the best response dynamics is random walk on the transition graph $\\mathcal G_{B}$, i.e., the graph with nodes corresponding to configurations $\\mathcal X=\\mathcal A^{\\mathcal V}$ and links $(x,y)$ from configurations $x$ and $y$ that differ in exactly one entry $i$ if and only if $y_i \\in B_i(x_{-i})$."
      ]
    },
    {
      "cell_type": "markdown",
      "metadata": {
        "id": "n_K5uIKIGxc2"
      },
      "source": [
        "## Example: Rock-Scissor-Paper game\n",
        "The Rock-Scissor-Paper game is a two-player symmetric game with action set $\\mathcal A =\\{R, S, P\\}$ and utility matrix\n",
        "\n",
        "![utility-matrix](RSP-utility.png)\n",
        "\n",
        "1. Write a function that implements the best response correspondence for both players.\n",
        "2. Does the game admit Nash equilibria?\n",
        "3. Is the game potential?\n",
        "4. Consider the best response dynamics for the RSP game. Plot the transition graph $\\mathcal G_{B}$.\n",
        "5. Simulate the (discrete time) best response dynamics and estimate the invariant probability distribution $\\pi$.\n",
        "6. Compute and plot the condensation graph of $\\mathcal G_{B}$.\n",
        "7. Compute analytically the invariant distribution $\\pi$ of the best response dynamics.\n"
      ]
    },
    {
      "cell_type": "markdown",
      "metadata": {
        "id": "XvK69kDDGxc3"
      },
      "source": [
        "> 1. Write a function that implements the best response for both players."
      ]
    },
    {
      "cell_type": "code",
      "metadata": {
        "id": "L2YwtlMcGxc3"
      },
      "source": [
        "import numpy as np\n",
        "\n",
        "# Define action vector\n",
        "# we identify actions with numbers: R->0, S->1, P->2\n",
        "actions = np.array([0,1,2])\n",
        "\n",
        "# Define utility matrix\n",
        "# first index is the player whose utility is being computed 0=first/row player,\n",
        "# 1=second/column player,\n",
        "# second index is the first player action 0=R, 1=S, 2=P,\n",
        "# third index is the second player action 0=R, 1=S, 2=P\n",
        "utility = np.array([[[0, 1, -1],\n",
        "                     [-1, 0, 1],\n",
        "                     [1, -1, 0]],\n",
        "                    [[0, -1, 1],\n",
        "                     [1, 0, -1],\n",
        "                     [-1, 1, 0]]\n",
        "                   ])\n",
        "\n",
        "\n",
        "# Best response function for 2 player games \n",
        "def best_response(player, configuration):\n",
        "    other_player = 1-player\n",
        "    other_action = configuration[other_player]\n",
        "    if player == 0:\n",
        "        return [np.argmax(utility[player, :, other_action])]\n",
        "    if player == 1:\n",
        "        return [np.argmax(utility[player, other_action, :])]"
      ],
      "execution_count": 12,
      "outputs": []
    },
    {
      "cell_type": "markdown",
      "metadata": {
        "id": "eObDRLbtGxc5"
      },
      "source": [
        "> 2. Does the game admit Nash equilibria?"
      ]
    },
    {
      "cell_type": "code",
      "metadata": {
        "colab": {
          "base_uri": "https://localhost:8080/"
        },
        "id": "ljGhHQYLGxc5",
        "outputId": "efcbcd2f-0a81-453e-8633-dec19df5a7c5"
      },
      "source": [
        "from itertools import product\n",
        "\n",
        "# Compute all game's configurations\n",
        "# product function computes the cartesian product of actions with itself\n",
        "# returns an iterator of tuples of actions\n",
        "# cartesian product of action set with itself 2 times\n",
        "configurations = list(product(actions, repeat=2))\n",
        "print(\"Configurations:\", configurations)\n",
        "\n",
        "nash_list = []\n",
        "\n",
        "# we cycle over configurations:\n",
        "# each configuration is a Nash unless there exists (at least) one player who\n",
        "# is not playing a best response to the configuration of other players\n",
        "for configuration in configurations:\n",
        "    is_nash = True\n",
        "    for player in [0,1]:\n",
        "        if configuration[player] not in best_response(player,configuration):\n",
        "            is_nash = False\n",
        "            break\n",
        "    if is_nash:\n",
        "        nash_list.append(configuration)\n",
        "        \n",
        "if len(nash_list) != 0:\n",
        "    print(\"The game admits the following Nash equilibria\", nash_list)\n",
        "else:\n",
        "    print(\"The game does not posses Nash equilibria.\")"
      ],
      "execution_count": 13,
      "outputs": [
        {
          "output_type": "stream",
          "text": [
            "Configurations: [(0, 0), (0, 1), (0, 2), (1, 0), (1, 1), (1, 2), (2, 0), (2, 1), (2, 2)]\n",
            "The game does not posses Nash equilibria.\n"
          ],
          "name": "stdout"
        }
      ]
    },
    {
      "cell_type": "markdown",
      "metadata": {
        "id": "FSuEJwKVGxc6"
      },
      "source": [
        "This game is a zero sum game. If a player wins, the other looses, no configuartions at which both players are happy. No configuration were no player wants to change its current action to improve its utility. In each configuration at lest 1 player can change its action to achieve utility +1 (max values) and no configuration where both players have utility +1. \n",
        "The game does not posses any Nash equilibrium. In each configuration at least one player has an incentive in changing is current action to a best response, which gives him utility $+1$. There are no configurations where both players have utility $+1$."
      ]
    },
    {
      "cell_type": "markdown",
      "metadata": {
        "id": "TLGXT5IPGxc7"
      },
      "source": [
        "> 3. Is the game potential?\n",
        "\n",
        "If a finite game (i.e., a  game with a finite configuration set) is potential, then the set of its Nash equilibria is non-empty as it contains the maxima of the potential function $\\Phi$. But if the set is infinite, it may have no max, so no Nash, even if it's potential.\n",
        "The RSP game does not posses Nash equilibria, so it is not potential. This is enough-"
      ]
    },
    {
      "cell_type": "markdown",
      "metadata": {
        "id": "7gJAj_NiC9bB"
      },
      "source": [
        ""
      ]
    },
    {
      "cell_type": "markdown",
      "metadata": {
        "id": "LAFYKRZhGxc7"
      },
      "source": [
        "> 4. Consider the best response dynamics for the RSP game. Plot the transition graph $\\mathcal G_{B}$ (i.e., the graph with nodes corresponding to configurations $\\mathcal X=\\mathcal A^{\\mathcal V}$ and links $(x,y)$ between configurations $x$ and $y$ that differ in exactly one entry $i$ if and only if $y_i \\in B_i(x_{-i})$). Ordered set of nodes from x to y, directed because if an action $y_i$ is a best response for player i $B_i(x_{-i})$, this doesn't imply that the opposite direction also holds true."
      ]
    },
    {
      "cell_type": "code",
      "metadata": {
        "colab": {
          "base_uri": "https://localhost:8080/",
          "height": 340
        },
        "id": "Ijc5BG62Gxc8",
        "outputId": "e74a0e6d-9d3c-46e8-d51d-203adb4d67be"
      },
      "source": [
        "import networkx as nx\n",
        "\n",
        "# transition_graph is a directed graph\n",
        "transition_graph = nx.DiGraph()\n",
        "# nodes of transition_graph are configurations\n",
        "transition_graph.add_nodes_from(configurations)\n",
        "\n",
        "# we visit each configuration x and add links to neighboring configurations.\n",
        "# Neighboring configurations y of x are those that differ in exactly one entry,\n",
        "# the action of a single player i, and such that y_i is a best response to\n",
        "# x_i for player i\n",
        "for configuration in configurations:\n",
        "    for player in [0,1]:\n",
        "        for other_action in actions:\n",
        "            if other_action != configuration[player] and other_action in best_response(player,configuration):\n",
        "                other_config = list(configuration)\n",
        "                other_config[player] = other_action\n",
        "                other_config = tuple(other_config)\n",
        "                transition_graph.add_edge(configuration,other_config)\n",
        "                \n",
        "pos = nx.spring_layout(transition_graph)\n",
        "nx.draw(transition_graph, pos=pos, with_labels=True)              "
      ],
      "execution_count": 14,
      "outputs": [
        {
          "output_type": "display_data",
          "data": {
            "image/png": "[encoded data removed]",
            "text/plain": [
              "<Figure size 432x288 with 1 Axes>"
            ]
          },
          "metadata": {
            "tags": []
          }
        }
      ]
    },
    {
      "cell_type": "markdown",
      "metadata": {
        "id": "rifowUw4Gxc8"
      },
      "source": [
        "The transition graph has nodes corresponding to the $9$ game configurations and directed links which represent admissible transitions for the best response dynamics. For example the directed link from $(0,0)$ to $(2,0)$ corresponds to the player 0 changing its action to the best one, 2, which makes in game +1 utility. There are 3 special configuraitons: $(0,0)$, $(1,1)$, $(2,2)$, since there are no loosers and winners, but draws. They are source nodes of the graph, no incoming links, but only outgoing ones. I can't enter these configurations in a best response dynamics, I can only exit if I start there. The remaining configurations are in a cycle, which connects all of them"
      ]
    },
    {
      "cell_type": "markdown",
      "metadata": {
        "id": "icaA4ikGGxc9"
      },
      "source": [
        "> 5. Simulate the (discrete time) best response dynamics and estimate the invariant probability distribution $\\pi$. (It's a markov chain)"
      ]
    },
    {
      "cell_type": "code",
      "metadata": {
        "id": "F1eErUlQGxc9",
        "colab": {
          "base_uri": "https://localhost:8080/",
          "height": 340
        },
        "outputId": "8e22866d-4075-48d4-e2fc-043d6e952785"
      },
      "source": [
        "from numpy.random import choice, rand \n",
        "\n",
        "# Simulates the best response dynamics as a random walk on the transition graph G\n",
        "# starting from node xi.\n",
        "# if till_first_return = True the random walk stops the first time\n",
        "# it returns to the starting node xi.\n",
        "# Otherwise, it goes on for num_steps steps.\n",
        "\n",
        "def RandomWalk(G, xi, num_steps, till_first_return = False):\n",
        "    # nodeSeq stores the sequence of visited nodes\n",
        "    nodeSeq = []\n",
        "    nodeSeq.append(xi)\n",
        "    \n",
        "    # if the walk ends at the first return to xi\n",
        "    if till_first_return:\n",
        "        # stores the initial position to check if the \n",
        "        # walk returns to it\n",
        "        x_init = xi\n",
        "        \n",
        "        while True:\n",
        "            # compute the next visited node xi by chosing uniformly\n",
        "            # at random a neighbor of the current one\n",
        "            neighbors = list(G.neighbors(xi))\n",
        "            index = choice(len(neighbors),1)[0] \n",
        "            xi = neighbors[index] \n",
        "            nodeSeq.append(xi)\n",
        "            \n",
        "            # check if the walk has returned to the starting node\n",
        "            # if so, end the walk\n",
        "            if xi == x_init:\n",
        "                return nodeSeq\n",
        "    \n",
        "    # if the walk ends after num_steps steps\n",
        "    else:\n",
        "        for i in range(num_steps):\n",
        "            neighbors = list(G.neighbors(xi))\n",
        "            index = choice(len(neighbors),1)[0] \n",
        "            xi = neighbors[index]\n",
        "            nodeSeq.append(xi)\n",
        "        return nodeSeq\n",
        "\n",
        "# Simulate the BR dynamics \n",
        "nodeSeq = RandomWalk(transition_graph, xi=(0,0), num_steps=100, till_first_return=False)\n",
        "edgeSeq = [(nodeSeq[i-1], nodeSeq[i]) for i in range(1,len(nodeSeq))]\n",
        "\n",
        "# Draw G and represent the random walk by colouring the edge sequence\n",
        "# first draw all nodes and links\n",
        "nx.draw(transition_graph, pos)\n",
        "# then, on the previous picture, add node labels and highlight the edge sequence\n",
        "nx.draw(transition_graph, pos, with_labels=True, edgelist = edgeSeq, edge_color='blue', node_color='red', width=2)\n"
      ],
      "execution_count": 15,
      "outputs": [
        {
          "output_type": "display_data",
          "data": {
            "image/png": "[encoded data removed]",
            "text/plain": [
              "<Figure size 432x288 with 1 Axes>"
            ]
          },
          "metadata": {
            "tags": []
          }
        }
      ]
    },
    {
      "cell_type": "markdown",
      "metadata": {
        "id": "dbukOsRSGxc-"
      },
      "source": [
        "We see that the dynamics starts at configuration (R,R) (represented by (0,0)) and after one step it exit from it. Then it continue cycling over best response cycle $(0,2) \\to (1,2) \\to (1,0) \\to (2,0) \\to (2,1) \\to (0,1) \\to (0,2)$. In particular, it never goes back to $(0,0)$ and $(1,1),(2,2)$ are never visited. Some edges are thicker because the dynamics crosses them more frequently than the others. After exiting $(0,0)$, it continoues cycling in the cycle (forever, unless specified). It never goes back to the strarting configuartion or the other ties because I can't enter them. If I can chose the action, I chose the best one and win the game, not a draw."
      ]
    },
    {
      "cell_type": "code",
      "metadata": {
        "colab": {
          "base_uri": "https://localhost:8080/"
        },
        "id": "MRdrSgYbGxc_",
        "outputId": "b6319923-bb9d-4da9-d131-08df604e9a9c"
      },
      "source": [
        "# Esitimate the invariant measure pi of the BR dynamics by \n",
        "# simulating a \"long\" random walk\n",
        "\n",
        "nodeSeq = RandomWalk(transition_graph, (0,0), 1000, False)\n",
        "\n",
        "\n",
        "# Compute empirical frequencies\n",
        "\n",
        "# Define a dictionary to store frequencies of visit to each node\n",
        "frequencies = {node:0 for node in transition_graph.nodes}\n",
        "# count the visits to each node\n",
        "for node in nodeSeq:\n",
        "    frequencies[node] += 1\n",
        "# transform dict values to a np.array\n",
        "frequencies = list(frequencies[node] for node in transition_graph.nodes) \n",
        "frequencies = np.array(frequencies, dtype=\"double\")\n",
        "# normalize the counts to obtain frequencies\n",
        "frequencies /= len(nodeSeq)\n",
        "print(\"Frequencies:\", frequencies)\n",
        "\n",
        "# Print the indices of nodes where pi is positive\n",
        "print(\"The approximate invariant distribution is supported on nodes:\")\n",
        "for index,node in enumerate(transition_graph.nodes):\n",
        "    if frequencies[index]>0:\n",
        "        print(node)"
      ],
      "execution_count": 16,
      "outputs": [
        {
          "output_type": "stream",
          "text": [
            "Frequencies: [0.000999   0.16583417 0.16683317 0.16683317 0.         0.16683317\n",
            " 0.16683317 0.16583417 0.        ]\n",
            "The approximate invariant distribution is supported on nodes:\n",
            "(0, 0)\n",
            "(0, 1)\n",
            "(0, 2)\n",
            "(1, 0)\n",
            "(1, 2)\n",
            "(2, 0)\n",
            "(2, 1)\n"
          ],
          "name": "stdout"
        }
      ]
    },
    {
      "cell_type": "markdown",
      "metadata": {
        "id": "CwyRUSPFEPjg"
      },
      "source": [
        "Very little weight on $(0,0)$, it has weight maybe only because we started on it. If the chain was much longer, this weight should be negligible."
      ]
    },
    {
      "cell_type": "markdown",
      "metadata": {
        "id": "ekF_PfXwGxdB"
      },
      "source": [
        "The approximate invariant distribution appears to be supported on nodes $\\{(0,0),(0,1),(0,2),(1,0),(1,2),(2,0),(2,1)\\}$ of the transition graph. However, the measure of node $(0,0)$ is negligible with respect to that of $(0,1),(0,2),(1,0),(1,2),(2,0),(2,1)$, which are almost equal to each other. Actually, the little weight associated to node $(0,0)$ appears to depend on the fact that it has been visited once since it is the starting point of the chain. We guess that when the length on the walk tends to infinity the weight associated to node $(0,0)$ vanishes and the approximation of $\\pi$ is supported and uniformly distributed on $\\{(0,1),(0,2),(1,0),(1,2),(2,0),(2,1)\\}$."
      ]
    },
    {
      "cell_type": "markdown",
      "metadata": {
        "id": "6gHU9eNWGxdB"
      },
      "source": [
        "> 6. Compute and plot the condensation graph of $\\mathcal G_{B}$."
      ]
    },
    {
      "cell_type": "code",
      "metadata": {
        "id": "fLjO4xNJGxdC",
        "colab": {
          "base_uri": "https://localhost:8080/",
          "height": 353
        },
        "outputId": "6179030e-2ee6-49c0-8459-f81af6fe528e"
      },
      "source": [
        "CG = nx.algorithms.components.condensation(transition_graph)\n",
        "nx.draw(CG, with_labels=True)\n",
        "print(dict(CG.nodes))"
      ],
      "execution_count": 17,
      "outputs": [
        {
          "output_type": "stream",
          "text": [
            "{0: {'members': {(0, 1), (1, 2), (2, 1), (2, 0), (1, 0), (0, 2)}}, 1: {'members': {(0, 0)}}, 2: {'members': {(1, 1)}}, 3: {'members': {(2, 2)}}}\n"
          ],
          "name": "stdout"
        },
        {
          "output_type": "display_data",
          "data": {
            "image/png": "[encoded data removed]",
            "text/plain": [
              "<Figure size 432x288 with 1 Axes>"
            ]
          },
          "metadata": {
            "tags": []
          }
        }
      ]
    },
    {
      "cell_type": "markdown",
      "metadata": {
        "id": "ZvN8Qn4QGxdD"
      },
      "source": [
        "The condensation graph is shown above, where the hypernode $0$ contains all configurations except for $(R,R), (S,S), (P,P)$ (the ones that correspond to a draw). More precisely, the hypernode $0$ contains the $6$-cycle $(0,2) \\to (1,2) \\to (1,0) \\to (2,0) \\to (2,1) \\to (0,1) \\to (0,2)$. The hypernodes $1,2,3$ instead contain the singletons $(R,R), (S,S), (P,P)$. The condensation graph contains only one sink, that is $s_{\\text{transition_graph}} = 1$."
      ]
    },
    {
      "cell_type": "markdown",
      "metadata": {
        "id": "2K3gyKc9GxdD"
      },
      "source": [
        "7. Compute analytically the invariant distribution $\\pi$ of the best response dynamics."
      ]
    },
    {
      "cell_type": "markdown",
      "metadata": {
        "id": "fToJrNR-GxdE"
      },
      "source": [
        "We know that the invariant probability distribution is supported on the nodes contained in the unique sink of the condensation graph. The subgraph corresponding to such sink (the 6-cycle graph) is balanced (all nodes have in-degree $1$ and out-degree $1$, so the sink is $1$-regular), then the extremal invariant probability distribution supported on that sink is obtained by normalizing the out-degree vector. In this way we find that $\\pi_x = 1/6$, for $x \\in \\{RS, RP, SR, SP, PR, PS\\}$ and $\\pi_x = 0$ for $x \\in \\{RR, SS, PP\\}$.\n",
        "\n",
        "We can check that this is correct with the following code."
      ]
    },
    {
      "cell_type": "code",
      "metadata": {
        "id": "JaCyQ4mpGxdE",
        "colab": {
          "base_uri": "https://localhost:8080/"
        },
        "outputId": "f43a0697-8447-460e-c2f5-422e9e7177d5"
      },
      "source": [
        "# Compute P matrix\n",
        "A = nx.adjacency_matrix(transition_graph) # -> return type is scipy.sparse.csr_matrix\n",
        "A = A.toarray() # convert A to a numpy array\n",
        "degrees = np.sum(A,axis=1)\n",
        "D = np.diag(degrees)\n",
        "P = np.linalg.inv(D) @ A\n",
        "\n",
        "# Compute invariant distribution\n",
        "values,vectors = np.linalg.eig(P.T)\n",
        "index = np.argmax(values.real)\n",
        "pi = vectors[:,index].real\n",
        "pi = pi/np.sum(pi)\n",
        "print(\"pi=\", pi)"
      ],
      "execution_count": 19,
      "outputs": [
        {
          "output_type": "stream",
          "text": [
            "pi= [-0.          0.16666667  0.16666667  0.16666667 -0.          0.16666667\n",
            "  0.16666667  0.16666667 -0.        ]\n"
          ],
          "name": "stdout"
        }
      ]
    },
    {
      "cell_type": "markdown",
      "metadata": {
        "id": "aHv_yEyDRHA4"
      },
      "source": [
        "The fist node is zero because we are not computing a simulation, since node $(0,0)$ is not contained in the sink."
      ]
    },
    {
      "cell_type": "markdown",
      "metadata": {
        "id": "N6mEltMoGxdG"
      },
      "source": [
        "# Continuous time best response dynamics\n",
        "In this section we present the continuous time best response dynamics, which is the continuous time analog of the process presented in the previous section.\n",
        "\n",
        "\n",
        "Consider a game $\\left(\\mathcal V, \\mathcal A, \\{u_i\\}_{i \\in \\mathcal V}\\right)$. \n",
        "\n",
        "The **continuous-time asynchronous best response dynamics** is a continuous time Markov chain $X(t)$ with state space $\\mathcal X= \\mathcal A^{\\mathcal V}$ coinciding with the configuration space of the game and transition rate matrix $\\Lambda$ as follows: \n",
        "\n",
        "$\\Lambda_{xy} = 0$ for every two configurations $x, y \\in \\mathcal X$ that differ in more\n",
        "than one entry, and\n",
        "\n",
        "$$\n",
        "\\Lambda_{xy} = \\begin{cases}\n",
        "|B_i(x_{-i})|^{-1} \\quad \\text{if} \\quad y_i \\in B_i(x_{-i}) \\\\\n",
        "0 \\quad \\text{if} \\quad y_i \\notin B_i(x_{-i})\n",
        "\\end{cases}\n",
        "$$\n",
        "for every two configurations $x, y \\in \\mathcal X$ differing in entry $i$ only, i.e., such that\n",
        "$x_i \\neq y_i$ and $x_{-i} = y_{-i}$.\n",
        "The rate is 1/size_of_best_response_set"
      ]
    },
    {
      "cell_type": "markdown",
      "metadata": {
        "id": "wGeWuvqzGxdG"
      },
      "source": [
        "## Continuous time BRD for network games\n",
        "\n",
        "Network games are games where players are associated to nodes of a graph $\\mathcal G$ that describes the interactions among them, not the transition graph. In particular, for each player $i\\in\\mathcal V$ and for each couple of configurations $x,y\\in\\mathcal A^{\\mathcal V}$ such that $x_j=y_j$ for each $j\\in\\ N_i\\cup\\{i\\}$ it holds that\n",
        "$$u_i(x)=u_i(y)$$\n",
        "This means that the utility of each player only depends on the actions of its neighbors in the graph $\\mathcal G$.\n",
        "\n",
        "\n",
        "Given an unweighted undirected graph $\\mathcal G=(\\mathcal V,\\mathcal E,W)$ we can construct a network game on it by setting the players’ utilities to coincide with the weighted sum of the payoffs of the same symmetric two-player game played by the player simultaneously with her neighbors.\n",
        "\n",
        "Specifically, for a symmetric two-player game with action set $\\mathcal A$ and utility function $\\varphi(x_1, x_2)$ we define the network game $(\\mathcal V, \\mathcal A, \\{u_i\\}_{i \\in \\mathcal V} )$ by setting the utility of every player $i \\in \\mathcal V$ as\n",
        "$$\n",
        "u_i(x) = \\sum_{j \\in \\mathcal V} W_{ij}\\varphi(x_i,x_j)\n",
        "$$\n",
        "\n",
        "Each player it's involved in a lot of games with each neighbour but each player is independent so it plays a 2x2 game with each neighbour and then it collects the total gain it gets from each game and this will be the total utility he has."
      ]
    },
    {
      "cell_type": "markdown",
      "metadata": {
        "id": "KYHd4-gIGxdH"
      },
      "source": [
        "## Exercise - continuous time BRD for network coordination game\n",
        "A binary coordination game is a symmetric $2 \\times 2$-game with action set $\\mathcal A = \\{0,1\\}$ with payoff matrix $\\varphi$\n",
        "\n",
        "|   | 0   | 1   |\n",
        "|---|-----|-----|\n",
        "| **0** | a,a | d,c |\n",
        "| **1** | c,d | b,b |\n",
        "\n",
        "where $a > c$ and $b > d$. The inequalities above imply that the best response for each player is to copy the action of the other player.\n",
        "\n",
        "It is a potential game with potential $\\phi$\n",
        "\n",
        "|   | 0   | 1   |\n",
        "|---|-----|-----|\n",
        "| **0** | a-c | 0 |\n",
        "| **1** | 0 | b-d |\n",
        "\n",
        "Meaning of potential: difference in utility of player 1 (row) when it changes it action from 1 to 0 and the other player is fixed in configuration 0: a-c.\n",
        "\n",
        "Consider the **network coordination game**, obtained combining binary coordination games on the link of the following undirected graph\n",
        "\n",
        "![network](network.png)\n",
        "\n",
        "Recall that such network game is potential with potential function $\\Phi$\n",
        "$$\n",
        "\\Phi(x) = \\frac{1}{2} \\sum_{i,j} W_{ij} \\phi(x_i,x_j) .\n",
        "$$\n",
        "\n",
        "1. Simulate the dynamics when the coordination game has the same utility value for coordination of action 0 and action 1 respectively, i.e., $a=b=1$ and $c=d=0$ (no preference on coordinating between value 0 or 1, as far as players play the same action are happy). Run the simulation a few times and plot the potential function as a function of time. What do you observe?\n",
        "\n",
        "**Hint**: you need to fix the best response function to deal with more than 2 players. To do this it is useful to define a Python function to represent the utility functions of the network game. You can find such function in the solution to the next exercise."
      ]
    },
    {
      "cell_type": "code",
      "metadata": {
        "id": "uSEsE9FRGxdI"
      },
      "source": [
        "# TO DO"
      ],
      "execution_count": null,
      "outputs": []
    },
    {
      "cell_type": "markdown",
      "metadata": {
        "id": "dtbFpHv-GxdJ"
      },
      "source": [
        "**Remark**: You should able to check the following fact.\n",
        "For potential games, the best response dynamics converges to the set of Nash equilibria. More precisely, it converges to Nash equilibria that are **local maxima of the potential function**. The intuition, from optimization gradient ascent dynamics, we find max of a function and at each step we move in the direction fo the best improvement and I will eventually reach a maximum. Here instead of optimizing a single function, we have a lot of utility functions and each player is tryin to optimize each own function. At each step of our process one player is given the opportunity to improve along the direction of best improvement its own utility function. This is like a multi-objective utility funcion. This method is not guarantee to converge when the single objectives are not aligned. But when the game is potential, all the utility functions are aligned along a single objective represented by the potential function. Greedy optimization has the problem that it get stucks on local maxima, not being able to exit them. We can introdce some noise to exit them, we do this in game theory introducing the noisy best response dynamics"
      ]
    },
    {
      "cell_type": "markdown",
      "metadata": {
        "id": "gYKLQlObGxdK"
      },
      "source": [
        "# Network games and Noisy Best Response dynamics\n",
        "Consider the graph in Figure below, where a network coordination game takes place.\n",
        "![network](network.png)\n",
        "\n",
        "We consider a **continuous time asyncronous noisy best response  dynamics** with inverse noise parameter $\\eta=2$ (any positive number), i.e., a continuous time Markov chain on the configuration space $\\mathcal X$ (the set of all game's configurations) with transition rates $\\Lambda_{xy} = 0$ for every two configurations $x, y \\in \\mathcal X$ that differ in more\n",
        "than one entry, and\n",
        "\n",
        "$$\n",
        "\\Lambda_{xy} = \\frac{\\exp^{\\eta u_i(y_i,x_{-i})}}{\\sum_{a \\in \\mathcal A} \\exp^{\\eta u_i(a,x_{-i})} }\n",
        "$$\n",
        "(diveved by a normalization factor)\n",
        "for every two configurations $x, y \\in \\mathcal X$ differing in entry $i$ only, i.e., such that\n",
        "$x_i \\neq y_i$ and $x_{-i} = y_{-i}$.\n",
        "Not only the best response are allowed, but also suboptimal moves. The tuning parameters decide how unlikely the suboptimal transitions are. If it tends to inf, only optimal moves are accepted and this is equal to the continous time best response. If it goes to zero, we'll have a random uniform transition.\n"
      ]
    },
    {
      "cell_type": "markdown",
      "metadata": {
        "id": "oyTmen7SGxdK"
      },
      "source": [
        "1.  Simulate the dynamics when the coordination game has the same utility value for coordination of action 0 and action 1 respectively, i.e., $a=b=1$ and $c=d=0$. Run the simulation a few times and plot the potential function as a function of time. What do you observe?\n",
        "2. Simulate the dynamics when  instead $a=1$, $b=\\frac{1}{2}$ and $c=d=0$. Run the simulation a few times and plot the potential function as a function of time. What do you observe?\n",
        "3. If the simulation continues for a long time, will the probability for different configurations converge towards some specific values? In that case, how can these be computed?\n",
        "4. Compute the ratio between the probability that after a long time (i.e., in stationarity) all nodes choose action 1 and the probability that all nodes choose action 0, both for case **1** and case **2**. Does this seem to agree with your simulations?\n",
        "5. Compute the ratio between the probability that after a long time (i.e., in stationarity) one node chooses action 1 and the rest choose action 0, and the probability that all nodes choose action 0, both for case **1** and case **2**.\n"
      ]
    },
    {
      "cell_type": "markdown",
      "metadata": {
        "id": "Hg5CLNm_GxdL"
      },
      "source": [
        "### Solution\n",
        "#### Step 1\n",
        "> Simulate the dynamics when the coordination game has the same utility value for coordination of action 0 and action 1 respectively, i.e., $a=b=1$ and $c=d=0$. Run the simulation a few times and plot the potential function as a function of time. What do you observe? Without noise, we should convergence to local maxima, now we expect to reach global maxima."
      ]
    },
    {
      "cell_type": "code",
      "metadata": {
        "id": "PCwngpzsGxdL",
        "colab": {
          "base_uri": "https://localhost:8080/",
          "height": 555
        },
        "outputId": "a5fa7677-3611-4d84-efcd-9421c59f141b"
      },
      "source": [
        "import networkx as nx\n",
        "import matplotlib.pyplot as plt\n",
        "import numpy as np\n",
        "import scipy as sp\n",
        "\n",
        "# Construct the undirected graph as shown in the picture\n",
        "G = nx.Graph()\n",
        "G.add_nodes_from(range(5))\n",
        "G.add_edges_from([\n",
        "    (0,1),(0,2),\n",
        "    (1,2),(1,3),\n",
        "    (2,3),(2,4),\n",
        "    (3,4)\n",
        "])\n",
        "\n",
        "plt.figure(figsize=(5,7))\n",
        "pos = {3: (0, 0), 4: (1, 0), 1: (0, 1), 2: (1, 1), 0: (0.5, 1.5)}\n",
        "nx.draw(G, pos=pos, with_labels=True)"
      ],
      "execution_count": 20,
      "outputs": [
        {
          "output_type": "display_data",
          "data": {
            "image/png": "[encoded data removed]",
            "text/plain": [
              "<Figure size 360x504 with 1 Axes>"
            ]
          },
          "metadata": {
            "tags": []
          }
        }
      ]
    },
    {
      "cell_type": "code",
      "metadata": {
        "id": "WgaqKiVeGxdM"
      },
      "source": [
        "# Define the network coordination game\n",
        "\n",
        "# number of nodes in G = number of players in the game\n",
        "n_players = len(G)\n",
        "# utility values\n",
        "a = 1\n",
        "b = 1\n",
        "c = 0\n",
        "d = 0\n",
        "# utility matrix for the 2x2 coordination game\n",
        "phi = np.array([[a,d],\n",
        "                [c,b]])\n",
        "# the potential function of the 2x2 coordination game\n",
        "pot = np.array([[a-c,0],\n",
        "                [0,b-d]])\n",
        "# inverse noise parameter\n",
        "eta = 2\n",
        "# available actions\n",
        "actions = [0,1]\n",
        "n_actions = len(actions)\n",
        "# adjacency matrix\n",
        "W = nx.convert_matrix.to_numpy_matrix(G)\n",
        "\n",
        "def utility(player, x, phi):\n",
        "    result = 0\n",
        "    for other_player in G.neighbors(player):\n",
        "         result += phi[x[player], x[other_player]]\n",
        "    return result"
      ],
      "execution_count": null,
      "outputs": []
    },
    {
      "cell_type": "code",
      "metadata": {
        "id": "sKIj8ktAGxdM"
      },
      "source": [
        "# Define the noisy best response dynamics\n",
        "\n",
        "# Initialize transition rates matrix\n",
        "n_config = n_actions**n_players\n",
        "Lambda = sp.sparse.lil_matrix((n_config,n_config))\n",
        "\n",
        "# Number of actions for each player\n",
        "n_states =tuple(n_actions for _ in range(n_players))\n",
        "\n",
        "# Fill transition rates matrix\n",
        "for x_id in range(n_config):\n",
        "    x = np.unravel_index(x_id,shape=n_states)\n",
        "    x = np.array(x)\n",
        "    for player in range(n_players):\n",
        "        # compute utilities gained by `player` for each of its possible actions\n",
        "        # while the other players are in the current configuration x\n",
        "        utilities = np.zeros(n_actions)\n",
        "        for action in actions:\n",
        "            y = np.array(x)\n",
        "            y[player] = action\n",
        "            utilities[action] = utility(player,y, phi)\n",
        "        exp_utilities = np.exp(eta*utilities)\n",
        "        for action in actions:\n",
        "            if action == x[player]:\n",
        "                continue\n",
        "            y = np.array(x)\n",
        "            y[player] = action\n",
        "            y_id = np.ravel_multi_index(tuple(y), dims = n_states)\n",
        "            Lambda[x_id, y_id] += exp_utilities[action] / np.sum(exp_utilities)"
      ],
      "execution_count": null,
      "outputs": []
    },
    {
      "cell_type": "code",
      "metadata": {
        "id": "HI-HsEb5GxdN"
      },
      "source": [
        "# Simulate the continuous time Markov chain with 2nd approach: local clocks\n",
        "\n",
        "w = np.sum(Lambda, axis=1)\n",
        "w = np.array(w.T)[0]\n",
        "# check if there are entries in w equal to 0\n",
        "# if so, the transition graph has a sink,\n",
        "# a configuration that I can't exit from\n",
        "# and I can't invert D, add self loop, like in previous labs\n",
        "for x, weight in enumerate(w):\n",
        "    if weight == 0:\n",
        "        Lambda[x,x] = 1\n",
        "        w[x] = 1\n",
        "D = np.diag(w)\n",
        "P = np.linalg.inv(D) @ Lambda\n",
        "\n",
        "# number of iterations\n",
        "n_steps = 100\n",
        "\n",
        "states = np.zeros(n_steps, dtype=int)\n",
        "# initial configuration\n",
        "x = np.random.choice(actions, size = n_players)\n",
        "x_id = np.ravel_multi_index(tuple(x), dims = n_states)\n",
        "states[0] = x_id\n",
        "\n",
        "transition_times = np.zeros(n_steps)\n",
        "t_next = -np.log(np.random.rand())/w[0]\n",
        "\n",
        "P_cum = np.cumsum(P, axis=1)\n",
        "\n",
        "for i in range(1,n_steps):\n",
        "    states[i] = np.argwhere(P_cum[states[i-1]] > np.random.rand())[0]\n",
        "    transition_times[i] = transition_times[i-1] + t_next\n",
        "    t_next = -np.log(np.random.rand())/w[states[i]]"
      ],
      "execution_count": null,
      "outputs": []
    },
    {
      "cell_type": "code",
      "metadata": {
        "id": "jR2dpJFKGxdN",
        "outputId": "a3ea86c6-2b9e-4ab7-a626-935ac9efe411"
      },
      "source": [
        "# Compute and plot the evolution of the potential along the simulated \n",
        "# path of the chain\n",
        "\n",
        "# store the potential value at each step of the simulation\n",
        "potentials = np.zeros(n_steps)\n",
        "for step in range(n_steps):\n",
        "    x_id = states[step]\n",
        "    x = np.array(np.unravel_index(x_id, shape = n_states))\n",
        "    for i, j in G.edges:\n",
        "        potentials[step] += 0.5*pot[x[i],x[j]]\n",
        "\n",
        "plt.step(transition_times, potentials, 'bo-', where=\"post\");"
      ],
      "execution_count": null,
      "outputs": [
        {
          "output_type": "display_data",
          "data": {
            "image/png": "[encoded data removed]",
            "text/plain": [
              "<Figure size 432x288 with 1 Axes>"
            ]
          },
          "metadata": {
            "tags": [],
            "needs_background": "light"
          }
        }
      ]
    },
    {
      "cell_type": "code",
      "metadata": {
        "id": "QYW7k-3rGxdO",
        "outputId": "4b7e98cb-d184-43e4-f71f-3231dcc42618"
      },
      "source": [
        "# To better understand the process, visualize the \n",
        "# evolution of the game's configuration in time\n",
        "\n",
        "import matplotlib.pyplot as plt\n",
        "\n",
        "# Plot the evolution of the game's configurations\n",
        "fig = plt.figure(figsize=(9,12))\n",
        "for t in range(0,min(n_steps,25)):\n",
        "    plt.subplot(5,5,t+1)\n",
        "    x_id = states[t]\n",
        "    x = np.array(np.unravel_index(x_id, shape = n_states))\n",
        "    nx.draw(G,\n",
        "        pos = pos,\n",
        "        with_labels=True,\n",
        "        nodelist=np.argwhere(x==0).T[0].tolist(),\n",
        "        node_color = 'r')\n",
        "    nx.draw(G,\n",
        "        pos = pos,\n",
        "        with_labels=True,\n",
        "        nodelist=np.argwhere(x==1).T[0].tolist(),\n",
        "        node_color = 'b')\n",
        "    plt.title('jump step = {0}'.format(t+1))"
      ],
      "execution_count": null,
      "outputs": [
        {
          "output_type": "display_data",
          "data": {
            "image/png": "[encoded data removed]",
            "text/plain": [
              "<Figure size 648x864 with 25 Axes>"
            ]
          },
          "metadata": {
            "tags": []
          }
        }
      ]
    },
    {
      "cell_type": "markdown",
      "metadata": {
        "id": "qIZiPw53GxdP"
      },
      "source": [
        "We can see that the potential during most of the\n",
        "time is at its maximum value, corresponding to all nodes choosing the\n",
        "same action. By repeating the simulation, it seems like all nodes tend\n",
        "to end up in the same state after long time, independently of the initialization. The asymptotic state consists equally often in that all nodes\n",
        "choose action 0 as that all nodes choose action 1.\n",
        "\n",
        "We know from the theory that the noisy best response dynamics operates a selection among the NE and concentrates, in the small noise limit, most of the probability of its invariant distribution in the subset of those Nash equilibria that correspond to the set of potential maximizers $$\\arg \\max_{x \\in \\mathcal X} \\Phi(x)$$ With the current choice for $a,b,c,d$ the maximum value of the potential $\\Phi$ is realized by both the all-one and all-zero configurations.\n",
        "\n",
        "In this example we have a fixed noisy parameter $\\eta = 2$ but we are still able to observe that the dynamics spends most part of the time in global maxima of the potential.\n",
        "Try to change the noise parameter and see how the dynamics behaves."
      ]
    },
    {
      "cell_type": "markdown",
      "metadata": {
        "id": "iY31LqSxGxdP"
      },
      "source": [
        "#### Step 2\n",
        "> Simulate the dynamics when  instead $a=1$, $b=\\frac{1}{2}$ and $c=d=0$. Run the simulation a few times and plot the potential function as a function of time. What do you observe?\n",
        "\n",
        "The same code as previously can be reused, by only changing the parameter $b$. The simulations and the evolution of the potential values along it behave very similarly, with the difference that, among the states in which all nodes choose the same action, state $(0,\\ldots,0)$ is much more frequent than $(1,\\ldots,1)$. Even if all nodes are initialized to choose action 1, with high probability after a while they will all choose action 0 instead. This happens since with the current choice of $a,b,c,d$ the global maximum of the potential $\\Phi$ is realized by the all-zero configuration."
      ]
    },
    {
      "cell_type": "code",
      "metadata": {
        "id": "Zx0RzaUUGxdQ"
      },
      "source": [
        "# TO DO"
      ],
      "execution_count": null,
      "outputs": []
    },
    {
      "cell_type": "markdown",
      "metadata": {
        "id": "9gh-SDtmGxdR"
      },
      "source": [
        "#### Step 3\n",
        "> If the simulation continues for a long time, will the probability to be in the different configurations converge towards some specific values? In that case, how can these be computed?\n",
        "\n",
        "According to the theory about noisy best response dynamics, this type of dynamics is, for any choice of $\\eta > 0$, an irreducible reversible Markov chain with invariant probability distribution\n",
        "$$\n",
        "\\pi_x = \\frac{e^{\\eta \\Phi(x)}}{Z_\\eta}, \\quad Z_\\eta = \\sum_{y\\in \\mathcal{X}} e^{\\eta \\Phi(y)}.\n",
        "\\tag{1}\n",
        "$$\n",
        "\n",
        "Compute the values of $\\pi$."
      ]
    },
    {
      "cell_type": "code",
      "metadata": {
        "id": "B1WJbGIMGxdR"
      },
      "source": [
        "# TO DO"
      ],
      "execution_count": null,
      "outputs": []
    },
    {
      "cell_type": "markdown",
      "metadata": {
        "id": "BevCXnHfGxdR"
      },
      "source": [
        "#### Step 4\n",
        "> Compute the ratio between the probability that after a long time (i.e., in stationarity) all nodes choose action 1 and the probability that all nodes choose action 0, both for case **1** and case **2**. Does this seem to agree with your simulations?\n",
        "\n",
        "According to (1), we have that \n",
        "$$\n",
        "\\frac{\\pi_{(1,1,1,1,1)}}{\\pi_{(0,0,0,0,0)}} = \\frac{e^{\\eta \\Phi(1,1,1,1,1)}}{e^{\\eta \\Phi(0,0,0,0,0)}}.\n",
        "$$\n",
        "We can thus compute the result according to the following code: "
      ]
    },
    {
      "cell_type": "code",
      "metadata": {
        "id": "1Olr-kAnGxdS",
        "outputId": "127c791b-6965-4454-c594-68acec759bd2"
      },
      "source": [
        "print(\"Case 1:\")\n",
        "# utility values\n",
        "a = 1\n",
        "b = 1\n",
        "c = 0\n",
        "d = 0\n",
        "# the potential function of the 2x2 game\n",
        "pot = np.array([[a-c,0],\n",
        "                [0,b-d]])\n",
        "x_0 = [0 for node in G]\n",
        "potential_0 = 0\n",
        "for i, j in G.edges:\n",
        "    potential_0 += 0.5*pot[x_0[i],x_0[j]]\n",
        "\n",
        "x_1 = [1 for node in G]\n",
        "potential_1 = 0\n",
        "for i, j in G.edges:\n",
        "    potential_1 += 0.5*pot[x_1[i],x_1[j]]\n",
        "\n",
        "probability_ratio_1_over_0 = np.exp(eta*potential_1) / np.exp(eta*potential_0)\n",
        "print(\"The ratio between the probability of configuration 'all ones' and configuration 'all zeros' is\", probability_ratio_1_over_0)\n",
        "\n",
        "print(\"Case 2:\")\n",
        "\n",
        "# utility values\n",
        "a = 1\n",
        "b = 1/2\n",
        "c = 0\n",
        "d = 0\n",
        "# the potential function of the 2x2 game\n",
        "pot = np.array([[a-c,0],\n",
        "                [0,b-d]])\n",
        "\n",
        "x_0 = [0 for node in G]\n",
        "potential_0 = 0\n",
        "for i, j in G.edges:\n",
        "    potential_0 += 0.5*pot[x_0[i],x_0[j]]\n",
        "\n",
        "x_1 = [1 for node in G]\n",
        "potential_1 = 0\n",
        "for i, j in G.edges:\n",
        "    potential_1 += 0.5*pot[x_1[i],x_1[j]]\n",
        "\n",
        "probability_ratio_1_over_0 = np.exp(eta*potential_1) / np.exp(eta*potential_0)\n",
        "print(\"The ratio between the probability of configuration 'all ones' and configuration 'all zeros' is\", probability_ratio_1_over_0)\n"
      ],
      "execution_count": null,
      "outputs": [
        {
          "output_type": "stream",
          "text": [
            "Case 1:\n",
            "The ratio between the probability of configuration 'all ones' and configuration 'all zeros' is 1.0\n",
            "Case 2:\n",
            "The ratio between the probability of configuration 'all ones' and configuration 'all zeros' is 0.0301973834223185\n"
          ],
          "name": "stdout"
        }
      ]
    },
    {
      "cell_type": "markdown",
      "metadata": {
        "id": "Vv52ymxsGxdS"
      },
      "source": [
        "Check if this result agree with your simulations by estimating $\\pi$ for case **1** and **2** by measuring the time spent in each configuration.\n",
        "\n",
        "**Hint:** exploit the code for continuous time Markov chains from Lab04, where we kept trace of time intervals spent in each configuration during the simulation."
      ]
    },
    {
      "cell_type": "markdown",
      "metadata": {
        "id": "SaDpwNMNGxdT"
      },
      "source": [
        "#### Step 5. \n",
        "> Compute the ratio between the probability that after a long time (i.e., in stationarity) one node chooses action 1 and the rest choose action 0, and the probability that all nodes choose action 0, both for case **1** and case **2**.\n",
        "\n",
        "Using the invariant probability distribution formula (1) again, we can compute the ratio\n",
        "$$\n",
        "\\frac{\\sum_{i \\in \\mathcal V} \\pi_{\\delta(i)}}{\\pi_{(0,0,0,0,0)}}\n",
        "$$\n",
        "where $\\delta(i)_i=1$ and $\\delta(i)_j=0$, $\\forall j \\neq i$."
      ]
    },
    {
      "cell_type": "code",
      "metadata": {
        "id": "S6qy3WqjGxdT",
        "outputId": "f56c1b0a-d032-42ad-cb03-bd99f8d0bb78"
      },
      "source": [
        "print(\"Case 1:\")\n",
        "# utility values\n",
        "a = 1\n",
        "b = 1\n",
        "c = 0\n",
        "d = 0\n",
        "# the potential function of the 2x2 game\n",
        "pot = np.array([[a-c,0],\n",
        "                [0,b-d]])\n",
        "x_0 = [0 for node in G]\n",
        "potential_0 = 0\n",
        "for i, j in G.edges:\n",
        "    potential_0 += 0.5*pot[x_0[i],x_0[j]]\n",
        "\n",
        "exp_potential_1 = 0\n",
        "for player in G:\n",
        "    x_1 = [0 for node in G]\n",
        "    x_1[player] = 1\n",
        "    potential_1 = 0\n",
        "    for i, j in G.edges:\n",
        "        potential_1 += 0.5*pot[x_1[i],x_1[j]]\n",
        "    exp_potential_1 += np.exp(eta*potential_1)\n",
        "\n",
        "# print(exp_potential_1)\n",
        "probability_ratio_1_over_0 = exp_potential_1 / np.exp(eta*potential_0)\n",
        "print(\"The ratio between the probability of configuration 'one one, rest zero' and configuration 'all zeros' is\", probability_ratio_1_over_0)\n",
        "\n",
        "print(\"Case 2:\")\n",
        "\n",
        "# utility values\n",
        "a = 1\n",
        "b = 1/2\n",
        "c = 0\n",
        "d = 0\n",
        "# the potential function of the 2x2 game\n",
        "pot = np.array([[a-c,0],\n",
        "                [0,b-d]])\n",
        "\n",
        "x_0 = [0 for node in G]\n",
        "potential_0 = 0\n",
        "for i, j in G.edges:\n",
        "    potential_0 += 0.5*pot[x_0[i],x_0[j]]\n",
        "\n",
        "exp_potential_1 = 0\n",
        "for player in G:\n",
        "    x_1 = [0 for node in G]\n",
        "    x_1[player] = 1\n",
        "    potential_1 = 0\n",
        "    for i, j in G.edges:\n",
        "        potential_1 += 0.5*pot[x_1[i],x_1[j]]\n",
        "    exp_potential_1 += np.exp(eta*potential_1)\n",
        "\n",
        "# print(exp_potential_1)\n",
        "probability_ratio_1_over_0 = exp_potential_1 / np.exp(eta*potential_0)\n",
        "print(\"The ratio between the probability of configuration 'one one, rest zero' and configuration 'all zeros' is\", probability_ratio_1_over_0)\n"
      ],
      "execution_count": null,
      "outputs": [
        {
          "output_type": "stream",
          "text": [
            "Case 1:\n",
            "The ratio between the probability of configuration 'one one, rest zero' and configuration 'all zeros' is 0.3885603420976875\n",
            "Case 2:\n",
            "The ratio between the probability of configuration 'one one, rest zero' and configuration 'all zeros' is 0.3885603420976875\n"
          ],
          "name": "stdout"
        }
      ]
    },
    {
      "cell_type": "markdown",
      "metadata": {
        "id": "zudmRt3UGxdT"
      },
      "source": [
        "Even if in case 1 and 2 are different, the ratio \n",
        "$$\n",
        "\\frac{\\sum_{i \\in \\mathcal V} \\pi_{\\delta(i)}}{\\pi_{(0,0,0,0,0)}}\n",
        "$$\n",
        "is the same in the two cases.\n",
        "This happens because the potential value of configurations $\\delta(i)$ and $(0,0,0,0,0)$ does not depends on $b$, as the configurations does not contain any couple of neighboring players playing action $1$."
      ]
    }
  ]
}